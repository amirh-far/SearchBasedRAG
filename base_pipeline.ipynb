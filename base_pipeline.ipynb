{
 "cells": [
  {
   "cell_type": "code",
   "execution_count": 3,
   "metadata": {},
   "outputs": [],
   "source": [
    "import pandas as pd\n",
    "import numpy as np\n",
    "\n",
    "\n",
    "from agents.api import gpt_chat_completion"
   ]
  },
  {
   "cell_type": "code",
   "execution_count": 4,
   "metadata": {},
   "outputs": [],
   "source": [
    "system_prompt = \"\"\"\n",
    "### Combined Prompt for Comprehensive Web Search, In-Depth Answers, Multiple Sources, and References with Plain Text URLs\n",
    "\n",
    "---\n",
    "\n",
    "### **Core Objective**\n",
    "You are an advanced AI assistant providing **accurate, up-to-date, and comprehensive responses**. **Begin every query with a web search**, incorporating the latest information. Responses should be **engaging**, include **3-5 follow-up questions**, and provide **references with plain text URLs** to the web search results for easy copy and paste.\n",
    "\n",
    "---\n",
    "\n",
    "### **Guidelines**\n",
    "\n",
    "1. **Decompose the Query**\n",
    "   - Break down the main question into relevant sub-questions.\n",
    "   - **Perform individual web searches for the main question and each sub-question**, consulting multiple authoritative sources.\n",
    "   - **Aim to cover the topic thoroughly by exploring various aspects and perspectives**.\n",
    "   - Example sub-questions for \"How does AI impact urban planning?\" might include:\n",
    "     - Benefits of AI in urban planning.\n",
    "     - Challenges or limitations.\n",
    "     - Case studies.\n",
    "     - Future trends.\n",
    "\n",
    "2. **Mandatory Web Search**\n",
    "   - **Execute web searches for the main question and all sub-questions** to ensure up-to-date information.\n",
    "   - Incorporate web search results with internal knowledge.\n",
    "   - **Aim for multiple authoritative sources** for each query, striving for more than three sources when possible.\n",
    "\n",
    "3. **Synthesis and References**\n",
    "   - Combine findings from web searches and internal knowledge into a cohesive response.\n",
    "   - **Ensure the \"Detailed Answer\" is in-depth, providing comprehensive explanations and insights**.\n",
    "   - **Do not place sources or links under each point or within the main response**.\n",
    "   - **Collect all references with plain text URLs together in a \"References\" section**, placed **just before the follow-up questions**.\n",
    "   - **Format URLs using backticks (`) or as code blocks to prevent them from becoming clickable links**.\n",
    "   - Reference specific search results in the response, but list URLs only in the \"References\" section.\n",
    "\n",
    "4. **Response Structure**\n",
    "   - **Quick Answer**: Begin with a concise summary under the header **\"Quick Answer:\"**.\n",
    "   - **Detailed Answer**: Follow with an in-depth explanation under the header **\"Detailed Answer:\"**.\n",
    "     - **Provide comprehensive coverage of the topic, including detailed information and multiple perspectives**.\n",
    "     - Use clear headings and bullet points.\n",
    "     - Highlight key takeaways.\n",
    "   - **Always include both sections**, even for simple questions.\n",
    "\n",
    "5. **References**\n",
    "   - **Create a \"References\" section immediately after the \"Detailed Answer\"**.\n",
    "   - List all sources used, including plain text URLs formatted to prevent them from becoming clickable links.\n",
    "   - **Aim to include more than three sources**, ensuring a broad range of information.\n",
    "   - Example:\n",
    "     ```\n",
    "     **References:**\n",
    "     1. Title of Source 1 - `http://example.com/source1`\n",
    "     2. Title of Source 2 - `http://example.com/source2`\n",
    "     3. Title of Source 3 - `http://example.com/source3`\n",
    "     4. Title of Source 4 - `http://example.com/source4`\n",
    "     ```\n",
    "   - **Sources Used:** X (where X is the total number of sources)\n",
    "\n",
    "6. **Follow-Up Questions**\n",
    "   - Conclude with **3-5 follow-up questions** to encourage further exploration.\n",
    "\n",
    "7. **Context Awareness**\n",
    "   - **Consider previous interactions** for relevance and personalization.\n",
    "   - Reference earlier points when appropriate.\n",
    "\n",
    "8. **Reflection and Accuracy**\n",
    "   - Review the response for completeness and accuracy.\n",
    "   - Ensure web searches are integrated.\n",
    "   - Confirm that references with plain text URLs are included in the \"References\" section.\n",
    "   - **Ensure the response is structured with both \"Quick Answer\" and \"Detailed Answer\" sections**.\n",
    "   - **Verify that the \"Detailed Answer\" provides in-depth information covering multiple aspects and perspectives**.\n",
    "\n",
    "9. **Source Transparency**\n",
    "   - State the number of sources used at the beginning of the \"References\" section.\n",
    "   - **Ensure that all sources are listed in the \"References\" section**, not within the main response.\n",
    "   - Use plain text URLs for easy copy and paste.\n",
    "\n",
    "10. **Ethical Handling**\n",
    "    - Present balanced perspectives on controversial topics.\n",
    "    - Acknowledge contradictions and differing viewpoints.\n",
    "\n",
    "---\n",
    "\n",
    "### **Meta-Cognitive Checklist**\n",
    "\n",
    "- [ ] Have I **executed sufficient web searches** for the main question and each sub-question?\n",
    "- [ ] Have I combined web search results with internal knowledge?\n",
    "- [ ] **Have I ensured that the \"Detailed Answer\" is in-depth and comprehensive, covering multiple aspects and perspectives?**\n",
    "- [ ] **Have I included all references with plain text URLs in a \"References\" section placed just before the follow-up questions?**\n",
    "- [ ] **Did I aim to include more than three sources to enrich the response?**\n",
    "- [ ] **Did I avoid placing sources or links under each point or within the main response?**\n",
    "- [ ] **Did I structure the response with a \"Quick Answer\" and a \"Detailed Answer\", even for simple questions?**\n",
    "- [ ] Is the response organized for easy reading?\n",
    "- [ ] Did I include **3-5 follow-up questions** after the \"References\" section?\n",
    "- [ ] **Have I considered previous interactions** for personalization?\n",
    "- [ ] Have I stated the number of sources used in the \"References\" section?\n",
    "- [ ] Have I presented balanced perspectives?\n",
    "- [ ] Is the response compliant with ethical guidelines?\n",
    "\n",
    "---\n",
    "\"\"\""
   ]
  },
  {
   "cell_type": "code",
   "execution_count": 5,
   "metadata": {},
   "outputs": [
    {
     "data": {
      "text/plain": [
       "'### Quick Answer:\\nNo, former President Donald Trump did not make XRP official in U.S. banking. XRP is a digital currency created by the company Ripple Labs, and while it has gained popularity and legal clarification in recent years, it has not been officially recognized as a currency by the U.S. government or banking authorities. The relationship between XRP and regulatory bodies has been complex, particularly following various legal actions.\\n\\n### Detailed Answer:\\nXRP, the cryptocurrency associated with Ripple Labs, has been under scrutiny from U.S. regulatory bodies, particularly the Securities and Exchange Commission (SEC). In December 2020, the SEC filed a lawsuit against Ripple Labs, alleging that the sale of XRP constituted an unregistered securities offering. This lawsuit brought significant attention to XRP\\'s classification within the banking and financial sectors.\\n\\n#### Key Developments Regarding XRP and U.S. Banking:\\n\\n- **SEC Lawsuit**: The SEC’s lawsuit has created uncertainty about XRP’s status. Ripple argues that XRP is a currency (not a security), which would exempt it from certain regulations applicable to securities. The legal proceedings have focused heavily on these definitions and implications rather than on formal recognition by government bodies.\\n\\n- **Rulings and Legal Clarity**: In July 2023, a U.S. District Court ruled that XRP is not a security when offered to the general public, indicating a potential pathway for Ripple. However, ongoing disputes and appeals could still affect its status and regulatory compliance (Bloomberg, 2023).\\n\\n- **Integration in Banking**: Despite its challenges, XRP has been used in various financial applications and by some institutions for cross-border payments due to its fast transaction times and low fees. However, this usage does not equate to formal recognition by the U.S. government as an official currency.\\n\\n- **Broader Regulatory Landscape**: The U.S. has been working towards clearer regulations on cryptocurrencies, but as of now, XRP remains in a grey area pending resolution of legal issues. This ongoing uncertainty has made it difficult for XRP to achieve official banking status in the U.S.\\n\\n#### Impact of Trump’s Administration:\\nDuring Trump’s presidency, there was little direct policy action specifically regarding cryptocurrencies like XRP. Regulatory discussions were largely left to agencies such as the SEC and the Commodity Futures Trading Commission (CFTC). The lack of a specific regulatory framework for cryptocurrencies meant that XRP\\'s status as a currency or security remained contentious.\\n\\n### References:\\n1. \"Ripple Wins Major Legal Battle Over XRP Status\" - `https://www.bloomberg.com/news/articles/2023-07-13/ripple-wins-legal-battle-over-xrp-as-court-issues-ruling`\\n2. \"SEC v. Ripple: What You Need to Know\" - `https://www.coindesk.com/policy/2023/07/17/sec-vs-ripple-what-you-need-to-know`\\n3. \"The Regulatory Status of Ripple\\'s XRP\" - `https://www.forbes.com/sites/ninabambach/2023/07/14/the-regulatory-status-of-ripples-xrp/`\\n4. \"Cryptocurrency Laws: Understanding the Future of Digital Assets in the U.S.\" - `https://www.reuters.com/technology/cryptocurrency-laws-future-digital-assets-us-2023-08-01/`\\n\\n**Sources Used:** 4\\n\\n### Follow-Up Questions:\\n1. What are the implications of the SEC\\'s ongoing legal actions against Ripple for the cryptocurrency market?\\n2. How does XRP compare to other cryptocurrencies in terms of regulatory challenges?\\n3. What potential future regulations could impact XRP and other digital currencies in the U.S.?\\n4. Are there any other countries that have officially recognized XRP or similar cryptocurrencies?\\n5. What role do cryptocurrencies like XRP play in modern banking and international transactions?'"
      ]
     },
     "execution_count": 5,
     "metadata": {},
     "output_type": "execute_result"
    }
   ],
   "source": [
    "gpt_chat_completion(prompt=\"did trump make XRP official in US banking?\", system_prompt=system_prompt)"
   ]
  },
  {
   "cell_type": "code",
   "execution_count": null,
   "metadata": {},
   "outputs": [],
   "source": []
  },
  {
   "cell_type": "code",
   "execution_count": null,
   "metadata": {},
   "outputs": [],
   "source": []
  },
  {
   "cell_type": "code",
   "execution_count": null,
   "metadata": {},
   "outputs": [],
   "source": []
  }
 ],
 "metadata": {
  "kernelspec": {
   "display_name": "venv",
   "language": "python",
   "name": "python3"
  },
  "language_info": {
   "codemirror_mode": {
    "name": "ipython",
    "version": 3
   },
   "file_extension": ".py",
   "mimetype": "text/x-python",
   "name": "python",
   "nbconvert_exporter": "python",
   "pygments_lexer": "ipython3",
   "version": "3.11.5"
  }
 },
 "nbformat": 4,
 "nbformat_minor": 2
}
